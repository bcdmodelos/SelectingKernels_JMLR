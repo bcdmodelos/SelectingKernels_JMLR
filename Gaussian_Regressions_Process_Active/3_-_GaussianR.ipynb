{
 "cells": [
  {
   "cell_type": "code",
   "execution_count": null,
   "metadata": {},
   "outputs": [],
   "source": [
    "import numpy as np\n",
    "import pandas as pd\n",
    "import matplotlib as mpl\n",
    "import matplotlib.pyplot as plt\n",
    "\n",
    "from sklearn.metrics import r2_score, mean_squared_error\n",
    "from sklearn.gaussian_process import GaussianProcessRegressor\n",
    "\n",
    "from sklearn.gaussian_process.kernels import ConstantKernel, DotProduct, ExpSineSquared, Matern, RBF, RationalQuadratic, WhiteKernel, Product, Sum\n",
    "from tqdm import tqdm\n",
    "import warnings\n",
    "\n",
    "from sklearn.exceptions import ConvergenceWarning\n",
    "warnings.filterwarnings(action='ignore', category=ConvergenceWarning)\n",
    "warnings.filterwarnings(action='ignore', category=RuntimeWarning)\n",
    "warnings.filterwarnings(action='ignore', category=UserWarning)"
   ]
  },
  {
   "cell_type": "code",
   "execution_count": null,
   "metadata": {},
   "outputs": [],
   "source": [
    "file_name = \"data/selected_kernel/your_kernel_file.txt\"\n",
    "\n",
    "with open(file_name, \"r\") as file:\n",
    "    file_string = file.read().strip()\n",
    "\n",
    "kernel_optimized = eval(file_string)\n",
    "\n",
    "print(kernel_optimized)"
   ]
  },
  {
   "cell_type": "code",
   "execution_count": null,
   "metadata": {},
   "outputs": [],
   "source": [
    "time = 300\n",
    "\n",
    "data = f\"data/input/your_file.csv\"\n",
    "df = pd.read_csv(data)"
   ]
  },
  {
   "cell_type": "code",
   "execution_count": null,
   "metadata": {},
   "outputs": [],
   "source": [
    "data_total = np.array(df.combined_data2.values)\n",
    "data = data_total[:int(time)]\n",
    "data = data.reshape(-1, 1)\n",
    "\n",
    "CRdata = data/1000\n",
    "CRdata  = np.ravel(CRdata)"
   ]
  },
  {
   "cell_type": "code",
   "execution_count": null,
   "metadata": {},
   "outputs": [],
   "source": [
    "plt.figure(1, figsize=(11, 7), dpi=80, facecolor='w', edgecolor='k')\n",
    "plt.plot(data, linewidth = 3)\n",
    "plt.legend(['Time Series'])\n",
    "plt.grid(color='k', linestyle='--', linewidth=0.1)\n",
    "plt.ylabel('Data', fontsize = 14)\n",
    "plt.xlabel('Time Step', fontsize = 14)"
   ]
  },
  {
   "cell_type": "code",
   "execution_count": null,
   "metadata": {},
   "outputs": [],
   "source": [
    "trainL = len(CRdata) - 60\n",
    "t = np.linspace(1,len(CRdata),len(CRdata))\n",
    "t = t.reshape(len(t),1)\n",
    "t = np.atleast_2d(t)\n",
    "\n",
    "t_tr  = t[0:trainL]\n",
    "t_test = t[trainL:]\n",
    "\n",
    "CR_tr = CRdata[0:trainL]\n",
    "CR_test = CRdata[trainL:]"
   ]
  },
  {
   "cell_type": "code",
   "execution_count": null,
   "metadata": {},
   "outputs": [],
   "source": [
    "def GPR_Model(CR_tr, t_tr, CR_test, t_test, kernel_optimized):\n",
    "    t = np.append(t_tr, t_test).reshape(-1, 1)\n",
    "    CRdata = np.append(CR_tr, CR_test)\n",
    "\n",
    "    kernel = kernel_optimized\n",
    "\n",
    "    model = GaussianProcessRegressor(kernel=kernel, n_restarts_optimizer=20, alpha=1e-2, normalize_y=True)\n",
    "    model.fit(t_tr, CR_tr)\n",
    "    params = model.kernel_.get_params()\n",
    "\n",
    "    R2_tr = model.score(t_tr, CR_tr)\n",
    "    R2 = model.score(t, CRdata)\n",
    "    R2_test = model.score(t_test, CR_test)\n",
    "\n",
    "    CRpred_tr, sigma_tr = model.predict(t_tr, return_std=True)\n",
    "    CRpred_test, sigma_test = model.predict(t_test, return_std=True)\n",
    "    CRpred, sigma = model.predict(t, return_std=True)\n",
    "\n",
    "    mse = np.mean(((CRpred_tr-CR_tr)*1000)**2)\n",
    "    lml = model.log_marginal_likelihood_value_\n",
    "    std = np.sqrt(mse)\n",
    "\n",
    "    return {\n",
    "        'CRpred_tr': CRpred_tr,\n",
    "        'sigma_tr': sigma_tr,\n",
    "        'CRpred_test': CRpred_test,\n",
    "        'sigma_test': sigma_test,\n",
    "        'CRpred': CRpred,\n",
    "        'sigma': sigma,\n",
    "        't': t,\n",
    "        'CRdata': CRdata,\n",
    "        'mse': mse,\n",
    "        'std': std,\n",
    "        'r2_tr': R2_tr,\n",
    "        'r2_combined': R2,\n",
    "        'r2_test': R2_test,\n",
    "        'lml': lml,\n",
    "        'kernel': model.kernel_\n",
    "    }"
   ]
  },
  {
   "cell_type": "code",
   "execution_count": null,
   "metadata": {},
   "outputs": [],
   "source": [
    "def find_best_model(CR_tr, t_tr, CR_test, t_test, kernel_optimized, patience=20):\n",
    "    best_result = None\n",
    "    no_improvement_count = 0\n",
    "\n",
    "    with tqdm(total=patience, desc=\"Progress\") as pbar:\n",
    "        while no_improvement_count < patience:\n",
    "            result = GPR_Model(CR_tr, t_tr, CR_test, t_test, kernel_optimized)\n",
    "\n",
    "            if best_result is None or result['mse'] > best_result['mse']:\n",
    "                best_result = result\n",
    "                no_improvement_count = 0\n",
    "            else:\n",
    "                no_improvement_count += 1\n",
    "                pbar.update(1)\n",
    "\n",
    "    return best_result"
   ]
  },
  {
   "cell_type": "code",
   "execution_count": null,
   "metadata": {},
   "outputs": [],
   "source": [
    "best_result = find_best_model(CR_tr, t_tr, CR_test, t_test, kernel_optimized)"
   ]
  },
  {
   "cell_type": "code",
   "execution_count": null,
   "metadata": {},
   "outputs": [],
   "source": [
    "print(\"Best learned kernel:\", best_result['kernel'])\n",
    "print(\"Best MSE:\", best_result['mse'])\n",
    "print(\"Best STD:\", best_result['std'])\n",
    "print(\"Best R² train:\", best_result['r2_tr'])\n",
    "print(\"Best R²:\", best_result['r2_combined'])\n",
    "print(\"Best R² test:\", best_result['r2_test'])\n",
    "print(\"Best lml: \", best_result['lml'])"
   ]
  },
  {
   "cell_type": "code",
   "execution_count": null,
   "metadata": {},
   "outputs": [],
   "source": [
    "def plot_gpr(CRdata, CRpred, sigma, t, t_test):\n",
    "  plt.figure(1, figsize=(20, 7), dpi=80, facecolor='w', edgecolor='k')\n",
    "  mpl.style.use('default')\n",
    "\n",
    "  plt.plot(t, CRdata*1000, 'k', markersize=3, mfc='none', linewidth=1, label='Time Series')\n",
    "  plt.axvline(x=t_test[0], linestyle='--', color='black')\n",
    "  plt.plot(t, CRpred*1000, 'b-', label='Prediction via GPR model', linewidth=3)\n",
    "  plt.fill(np.concatenate([t, t[::-1]]),\n",
    "          np.concatenate([CRpred*1000 - 1.9600 * sigma*1000,\n",
    "                          (CRpred*1000 + 1.9600 * sigma*1000)[::-1]]),\n",
    "          alpha=.25, fc='b', ec='None', label='Confidence interval - 95%')\n",
    "  plt.legend(loc='upper left', fontsize=14)\n",
    "  plt.grid(color='k', linestyle='--', linewidth=0.1)\n",
    "  plt.ylabel('Data', fontsize=14)\n",
    "  plt.xlabel('Time Step', fontsize=14)\n",
    "  plt.gca().spines['top'].set_visible(False)\n",
    "  plt.gca().spines['right'].set_visible(False)\n",
    "\n",
    "  plt.show()"
   ]
  },
  {
   "cell_type": "code",
   "execution_count": null,
   "metadata": {},
   "outputs": [],
   "source": [
    "plot_gpr(best_result['CRdata'], best_result['CRpred'], best_result['sigma'], best_result['t'], t_test)"
   ]
  }
 ],
 "metadata": {
  "kernelspec": {
   "display_name": ".venv",
   "language": "python",
   "name": "python3"
  },
  "language_info": {
   "codemirror_mode": {
    "name": "ipython",
    "version": 3
   },
   "file_extension": ".py",
   "mimetype": "text/x-python",
   "name": "python",
   "nbconvert_exporter": "python",
   "pygments_lexer": "ipython3",
   "version": "3.12.2"
  }
 },
 "nbformat": 4,
 "nbformat_minor": 2
}
